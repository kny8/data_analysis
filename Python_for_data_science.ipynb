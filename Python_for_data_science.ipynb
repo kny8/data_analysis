{
  "nbformat": 4,
  "nbformat_minor": 0,
  "metadata": {
    "colab": {
      "provenance": [],
      "authorship_tag": "ABX9TyNqwg0TEaJZo+c/JdRvHGcm",
      "include_colab_link": true
    },
    "kernelspec": {
      "name": "python3",
      "display_name": "Python 3"
    },
    "language_info": {
      "name": "python"
    }
  },
  "cells": [
    {
      "cell_type": "markdown",
      "metadata": {
        "id": "view-in-github",
        "colab_type": "text"
      },
      "source": [
        "<a href=\"https://colab.research.google.com/github/kny8/data_analysis/blob/main/Python_for_data_science.ipynb\" target=\"_parent\"><img src=\"https://colab.research.google.com/assets/colab-badge.svg\" alt=\"Open In Colab\"/></a>"
      ]
    },
    {
      "cell_type": "markdown",
      "source": [
        "# NumPy:\n",
        "## Basics\n"
      ],
      "metadata": {
        "id": "xujUIZH7H-p7"
      }
    },
    {
      "cell_type": "code",
      "execution_count": 1,
      "metadata": {
        "id": "7RJDcHL3LtBN"
      },
      "outputs": [],
      "source": [
        "import numpy as np"
      ]
    },
    {
      "cell_type": "code",
      "source": [
        "a = np.array([1,2,3])\n",
        "print(a)"
      ],
      "metadata": {
        "id": "i7NNJSsHIIFW",
        "outputId": "263220d1-8619-430a-ab0f-d1d8b3ea1f63",
        "colab": {
          "base_uri": "https://localhost:8080/"
        }
      },
      "execution_count": 3,
      "outputs": [
        {
          "output_type": "stream",
          "name": "stdout",
          "text": [
            "[1 2 3]\n"
          ]
        }
      ]
    },
    {
      "cell_type": "markdown",
      "source": [
        "Two dimensional arrays\n"
      ],
      "metadata": {
        "id": "RkctkcNKIYFH"
      }
    },
    {
      "cell_type": "code",
      "source": [
        "b = np.array([[9,8,6],[10,5,4]])\n",
        "print(b)"
      ],
      "metadata": {
        "id": "Sg90UHsFIPLu",
        "outputId": "48fa4311-f0e6-4be4-c8b6-a43f22173404",
        "colab": {
          "base_uri": "https://localhost:8080/"
        }
      },
      "execution_count": 5,
      "outputs": [
        {
          "output_type": "stream",
          "name": "stdout",
          "text": [
            "[[ 9  8  6]\n",
            " [10  5  4]]\n"
          ]
        }
      ]
    },
    {
      "cell_type": "markdown",
      "source": [
        "1. Get dimension of numpy arrays;\n"
      ],
      "metadata": {
        "id": "SjbCnNngIjRx"
      }
    },
    {
      "cell_type": "code",
      "source": [
        "# dimension of array a\n",
        "a.ndim"
      ],
      "metadata": {
        "id": "PCh_NyaAI1e5",
        "outputId": "3e0ce75d-4ee2-40b1-8351-0939d9f8ac73",
        "colab": {
          "base_uri": "https://localhost:8080/"
        }
      },
      "execution_count": 8,
      "outputs": [
        {
          "output_type": "execute_result",
          "data": {
            "text/plain": [
              "2"
            ]
          },
          "metadata": {},
          "execution_count": 8
        }
      ]
    },
    {
      "cell_type": "markdown",
      "source": [
        "2. Shape (rows, columns)"
      ],
      "metadata": {
        "id": "6auPlReTI69C"
      }
    },
    {
      "cell_type": "code",
      "source": [
        "# shape (rows, columns)\n",
        "a.shape\n"
      ],
      "metadata": {
        "id": "BwVGwN9cJIfT",
        "outputId": "f9950a1d-bc2b-4e3b-ddac-c94f0ab69015",
        "colab": {
          "base_uri": "https://localhost:8080/"
        }
      },
      "execution_count": 10,
      "outputs": [
        {
          "output_type": "execute_result",
          "data": {
            "text/plain": [
              "(2, 3)"
            ]
          },
          "metadata": {},
          "execution_count": 10
        }
      ]
    },
    {
      "cell_type": "code",
      "source": [
        "b.shape"
      ],
      "metadata": {
        "id": "hMuP78MFJMe7",
        "outputId": "354f4990-ef6c-4edc-b54a-17d1749fe1a6",
        "colab": {
          "base_uri": "https://localhost:8080/"
        }
      },
      "execution_count": 11,
      "outputs": [
        {
          "output_type": "execute_result",
          "data": {
            "text/plain": [
              "(2, 3)"
            ]
          },
          "metadata": {},
          "execution_count": 11
        }
      ]
    },
    {
      "cell_type": "markdown",
      "source": [
        "3. Type of array:"
      ],
      "metadata": {
        "id": "VsFeEhDIJTTc"
      }
    },
    {
      "cell_type": "code",
      "source": [
        "a.dtype"
      ],
      "metadata": {
        "id": "5fffgabVJZGU",
        "outputId": "77ef44e1-b69f-48e2-c54a-87eab87ac9e8",
        "colab": {
          "base_uri": "https://localhost:8080/"
        }
      },
      "execution_count": 12,
      "outputs": [
        {
          "output_type": "execute_result",
          "data": {
            "text/plain": [
              "dtype('int64')"
            ]
          },
          "metadata": {},
          "execution_count": 12
        }
      ]
    },
    {
      "cell_type": "markdown",
      "source": [
        "4. Size of array:\n"
      ],
      "metadata": {
        "id": "DKY1EpY_JtJW"
      }
    },
    {
      "cell_type": "code",
      "source": [
        "a.itemsize"
      ],
      "metadata": {
        "id": "RW2yBPK3JyJW",
        "outputId": "d8de09e9-5738-45bf-8f13-72e2eb1fe237",
        "colab": {
          "base_uri": "https://localhost:8080/"
        }
      },
      "execution_count": 13,
      "outputs": [
        {
          "output_type": "execute_result",
          "data": {
            "text/plain": [
              "8"
            ]
          },
          "metadata": {},
          "execution_count": 13
        }
      ]
    },
    {
      "cell_type": "markdown",
      "source": [
        "5. Initializing data type with array\n",
        "\n",
        "\n",
        "\n",
        "---\n",
        "By default the the array is of size int 64. each bytes has 8 bits. So, size = no. of byte = 64/8 = 8\n"
      ],
      "metadata": {
        "id": "8OnYZRTCJ3_6"
      }
    },
    {
      "cell_type": "code",
      "source": [
        "c = np.array([1,2,3], dtype='int16')"
      ],
      "metadata": {
        "id": "PEqbybjGJzsf"
      },
      "execution_count": 14,
      "outputs": []
    },
    {
      "cell_type": "code",
      "source": [
        "print (f' Size of c is {c.itemsize} and type of c is {c.dtype}')"
      ],
      "metadata": {
        "id": "sebDY5FWKFjg",
        "outputId": "14f430be-1caf-4412-dacd-fd7070756786",
        "colab": {
          "base_uri": "https://localhost:8080/"
        }
      },
      "execution_count": 16,
      "outputs": [
        {
          "output_type": "stream",
          "name": "stdout",
          "text": [
            " Size of c is 2 and type of c is int16\n"
          ]
        }
      ]
    },
    {
      "cell_type": "markdown",
      "source": [
        "6. Total size"
      ],
      "metadata": {
        "id": "i2tI-H4JLskA"
      }
    },
    {
      "cell_type": "code",
      "source": [
        "a.nbytes"
      ],
      "metadata": {
        "id": "LvibDlGUKVNR",
        "outputId": "82711be4-92a7-471b-e15e-4abaac58d82c",
        "colab": {
          "base_uri": "https://localhost:8080/"
        }
      },
      "execution_count": 17,
      "outputs": [
        {
          "output_type": "execute_result",
          "data": {
            "text/plain": [
              "24"
            ]
          },
          "metadata": {},
          "execution_count": 17
        }
      ]
    },
    {
      "cell_type": "markdown",
      "source": [
        "## Accessing/ Changing specific elements, rows, cloumns, etc\n"
      ],
      "metadata": {
        "id": "3BRLT3CHL5CC"
      }
    },
    {
      "cell_type": "code",
      "source": [],
      "metadata": {
        "id": "kydvAwjMLyhs"
      },
      "execution_count": null,
      "outputs": []
    }
  ]
}