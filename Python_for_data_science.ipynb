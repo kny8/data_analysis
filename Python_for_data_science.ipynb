{
  "nbformat": 4,
  "nbformat_minor": 0,
  "metadata": {
    "colab": {
      "provenance": [],
      "authorship_tag": "ABX9TyO8hrLjZ4ecZVcxBjf0MhoJ",
      "include_colab_link": true
    },
    "kernelspec": {
      "name": "python3",
      "display_name": "Python 3"
    },
    "language_info": {
      "name": "python"
    }
  },
  "cells": [
    {
      "cell_type": "markdown",
      "metadata": {
        "id": "view-in-github",
        "colab_type": "text"
      },
      "source": [
        "<a href=\"https://colab.research.google.com/github/kny8/data_analysis/blob/main/Python_for_data_science.ipynb\" target=\"_parent\"><img src=\"https://colab.research.google.com/assets/colab-badge.svg\" alt=\"Open In Colab\"/></a>"
      ]
    },
    {
      "cell_type": "markdown",
      "source": [
        "# NumPy:\n",
        "## Basics\n"
      ],
      "metadata": {
        "id": "xujUIZH7H-p7"
      }
    },
    {
      "cell_type": "code",
      "execution_count": 2,
      "metadata": {
        "id": "7RJDcHL3LtBN"
      },
      "outputs": [],
      "source": [
        "import numpy as np"
      ]
    },
    {
      "cell_type": "code",
      "source": [
        "a = np.array([1,2,3])\n",
        "print(a)"
      ],
      "metadata": {
        "id": "i7NNJSsHIIFW",
        "outputId": "263220d1-8619-430a-ab0f-d1d8b3ea1f63",
        "colab": {
          "base_uri": "https://localhost:8080/"
        }
      },
      "execution_count": null,
      "outputs": [
        {
          "output_type": "stream",
          "name": "stdout",
          "text": [
            "[1 2 3]\n"
          ]
        }
      ]
    },
    {
      "cell_type": "markdown",
      "source": [
        "Two dimensional arrays\n"
      ],
      "metadata": {
        "id": "RkctkcNKIYFH"
      }
    },
    {
      "cell_type": "code",
      "source": [
        "b = np.array([[9,8,6],[10,5,4]])\n",
        "print(b)"
      ],
      "metadata": {
        "id": "Sg90UHsFIPLu",
        "outputId": "48fa4311-f0e6-4be4-c8b6-a43f22173404",
        "colab": {
          "base_uri": "https://localhost:8080/"
        }
      },
      "execution_count": null,
      "outputs": [
        {
          "output_type": "stream",
          "name": "stdout",
          "text": [
            "[[ 9  8  6]\n",
            " [10  5  4]]\n"
          ]
        }
      ]
    },
    {
      "cell_type": "markdown",
      "source": [
        "1. Get dimension of numpy arrays;\n"
      ],
      "metadata": {
        "id": "SjbCnNngIjRx"
      }
    },
    {
      "cell_type": "code",
      "source": [
        "# dimension of array a\n",
        "a.ndim"
      ],
      "metadata": {
        "id": "PCh_NyaAI1e5",
        "outputId": "3e0ce75d-4ee2-40b1-8351-0939d9f8ac73",
        "colab": {
          "base_uri": "https://localhost:8080/"
        }
      },
      "execution_count": null,
      "outputs": [
        {
          "output_type": "execute_result",
          "data": {
            "text/plain": [
              "2"
            ]
          },
          "metadata": {},
          "execution_count": 8
        }
      ]
    },
    {
      "cell_type": "markdown",
      "source": [
        "2. Shape (rows, columns)"
      ],
      "metadata": {
        "id": "6auPlReTI69C"
      }
    },
    {
      "cell_type": "code",
      "source": [
        "# shape (rows, columns)\n",
        "a.shape\n"
      ],
      "metadata": {
        "id": "BwVGwN9cJIfT",
        "outputId": "f9950a1d-bc2b-4e3b-ddac-c94f0ab69015",
        "colab": {
          "base_uri": "https://localhost:8080/"
        }
      },
      "execution_count": null,
      "outputs": [
        {
          "output_type": "execute_result",
          "data": {
            "text/plain": [
              "(2, 3)"
            ]
          },
          "metadata": {},
          "execution_count": 10
        }
      ]
    },
    {
      "cell_type": "code",
      "source": [
        "b.shape"
      ],
      "metadata": {
        "id": "hMuP78MFJMe7",
        "outputId": "354f4990-ef6c-4edc-b54a-17d1749fe1a6",
        "colab": {
          "base_uri": "https://localhost:8080/"
        }
      },
      "execution_count": null,
      "outputs": [
        {
          "output_type": "execute_result",
          "data": {
            "text/plain": [
              "(2, 3)"
            ]
          },
          "metadata": {},
          "execution_count": 11
        }
      ]
    },
    {
      "cell_type": "markdown",
      "source": [
        "3. Type of array:"
      ],
      "metadata": {
        "id": "VsFeEhDIJTTc"
      }
    },
    {
      "cell_type": "code",
      "source": [
        "a.dtype"
      ],
      "metadata": {
        "id": "5fffgabVJZGU",
        "outputId": "77ef44e1-b69f-48e2-c54a-87eab87ac9e8",
        "colab": {
          "base_uri": "https://localhost:8080/"
        }
      },
      "execution_count": null,
      "outputs": [
        {
          "output_type": "execute_result",
          "data": {
            "text/plain": [
              "dtype('int64')"
            ]
          },
          "metadata": {},
          "execution_count": 12
        }
      ]
    },
    {
      "cell_type": "markdown",
      "source": [
        "4. Size of array:\n"
      ],
      "metadata": {
        "id": "DKY1EpY_JtJW"
      }
    },
    {
      "cell_type": "code",
      "source": [
        "a.itemsize"
      ],
      "metadata": {
        "id": "RW2yBPK3JyJW",
        "outputId": "d8de09e9-5738-45bf-8f13-72e2eb1fe237",
        "colab": {
          "base_uri": "https://localhost:8080/"
        }
      },
      "execution_count": null,
      "outputs": [
        {
          "output_type": "execute_result",
          "data": {
            "text/plain": [
              "8"
            ]
          },
          "metadata": {},
          "execution_count": 13
        }
      ]
    },
    {
      "cell_type": "markdown",
      "source": [
        "5. Initializing data type with array\n",
        "\n",
        "\n",
        "\n",
        "---\n",
        "By default the the array is of size int 64. each bytes has 8 bits. So, size = no. of byte = 64/8 = 8\n"
      ],
      "metadata": {
        "id": "8OnYZRTCJ3_6"
      }
    },
    {
      "cell_type": "code",
      "source": [
        "c = np.array([1,2,3], dtype='int16')"
      ],
      "metadata": {
        "id": "PEqbybjGJzsf"
      },
      "execution_count": null,
      "outputs": []
    },
    {
      "cell_type": "code",
      "source": [
        "print (f' Size of c is {c.itemsize} and type of c is {c.dtype}')"
      ],
      "metadata": {
        "id": "sebDY5FWKFjg",
        "outputId": "14f430be-1caf-4412-dacd-fd7070756786",
        "colab": {
          "base_uri": "https://localhost:8080/"
        }
      },
      "execution_count": null,
      "outputs": [
        {
          "output_type": "stream",
          "name": "stdout",
          "text": [
            " Size of c is 2 and type of c is int16\n"
          ]
        }
      ]
    },
    {
      "cell_type": "markdown",
      "source": [
        "6. Total size"
      ],
      "metadata": {
        "id": "i2tI-H4JLskA"
      }
    },
    {
      "cell_type": "code",
      "source": [
        "a.nbytes"
      ],
      "metadata": {
        "id": "LvibDlGUKVNR",
        "outputId": "82711be4-92a7-471b-e15e-4abaac58d82c",
        "colab": {
          "base_uri": "https://localhost:8080/"
        }
      },
      "execution_count": null,
      "outputs": [
        {
          "output_type": "execute_result",
          "data": {
            "text/plain": [
              "24"
            ]
          },
          "metadata": {},
          "execution_count": 17
        }
      ]
    },
    {
      "cell_type": "markdown",
      "source": [
        "## Accessing/ Changing specific elements, rows, cloumns, etc\n"
      ],
      "metadata": {
        "id": "3BRLT3CHL5CC"
      }
    },
    {
      "cell_type": "code",
      "source": [
        "c = np.array ([[1,2,3,4,5,6,7,8],[5,6,7,8,9,0,10,11]])"
      ],
      "metadata": {
        "id": "kydvAwjMLyhs"
      },
      "execution_count": 23,
      "outputs": []
    },
    {
      "cell_type": "markdown",
      "source": [
        "Accessing element"
      ],
      "metadata": {
        "id": "HKA-eLCmyxw5"
      }
    },
    {
      "cell_type": "code",
      "source": [
        "# access element using [index_row, index_columnn]\n",
        "c[1,5]\n",
        "# direclty using index gives the type as well as the value\n",
        "# we can use print statement just to get the values\n",
        "# indexing starts with 0"
      ],
      "metadata": {
        "id": "tPBtN8ytyxYN",
        "outputId": "bb509632-2439-4f9d-b9bb-27453240d894",
        "colab": {
          "base_uri": "https://localhost:8080/"
        }
      },
      "execution_count": 6,
      "outputs": [
        {
          "output_type": "execute_result",
          "data": {
            "text/plain": [
              "np.int64(0)"
            ]
          },
          "metadata": {},
          "execution_count": 6
        }
      ]
    },
    {
      "cell_type": "code",
      "source": [
        "print(c[1,5])"
      ],
      "metadata": {
        "id": "KlEpBpK2yoZ0",
        "outputId": "2422b14e-5cfb-4525-dc2a-48522b31a445",
        "colab": {
          "base_uri": "https://localhost:8080/"
        }
      },
      "execution_count": 7,
      "outputs": [
        {
          "output_type": "stream",
          "name": "stdout",
          "text": [
            "0\n"
          ]
        }
      ]
    },
    {
      "cell_type": "markdown",
      "source": [
        "Getting an entire row"
      ],
      "metadata": {
        "id": "5qaQ3_LDzKw7"
      }
    },
    {
      "cell_type": "code",
      "source": [
        "# Get all the value in a given row\n",
        "c[0, :]"
      ],
      "metadata": {
        "id": "un7zcFQhzX6H",
        "outputId": "0fcbd0bf-1b11-45e6-b9d5-eadf984fac33",
        "colab": {
          "base_uri": "https://localhost:8080/"
        }
      },
      "execution_count": 9,
      "outputs": [
        {
          "output_type": "execute_result",
          "data": {
            "text/plain": [
              "array([1, 2, 3, 4, 5, 6, 7, 8])"
            ]
          },
          "metadata": {},
          "execution_count": 9
        }
      ]
    },
    {
      "cell_type": "markdown",
      "source": [
        "Getting an entire column"
      ],
      "metadata": {
        "id": "SCTaqTkAzbQI"
      }
    },
    {
      "cell_type": "code",
      "source": [
        "# Getting the value of an entire column\n",
        "c[:,0]"
      ],
      "metadata": {
        "id": "4Uf4RzYFzmOR",
        "outputId": "11fd2b6f-f72d-4382-e9ed-68482d675aba",
        "colab": {
          "base_uri": "https://localhost:8080/"
        }
      },
      "execution_count": 11,
      "outputs": [
        {
          "output_type": "execute_result",
          "data": {
            "text/plain": [
              "array([1, 5])"
            ]
          },
          "metadata": {},
          "execution_count": 11
        }
      ]
    },
    {
      "cell_type": "markdown",
      "source": [
        "Getting values of certian element of a column or a row"
      ],
      "metadata": {
        "id": "qtF6cEn8zx60"
      }
    },
    {
      "cell_type": "code",
      "source": [
        "# using [ start_index:end_index:stepsize]\n",
        "\n",
        "c [0 , 1:6:2]\n",
        "# From first row take value from second element(1) to fifth index as last index is exlucdec and skip by 2)"
      ],
      "metadata": {
        "id": "sF-je4XuzoyI",
        "outputId": "6b973354-7d33-4f40-a88e-b1867c286cb8",
        "colab": {
          "base_uri": "https://localhost:8080/"
        }
      },
      "execution_count": 15,
      "outputs": [
        {
          "output_type": "execute_result",
          "data": {
            "text/plain": [
              "array([2, 4, 6])"
            ]
          },
          "metadata": {},
          "execution_count": 15
        }
      ]
    },
    {
      "cell_type": "markdown",
      "source": [
        "Replacing the value in an array:"
      ],
      "metadata": {
        "id": "lqPn5ju70BUW"
      }
    },
    {
      "cell_type": "code",
      "source": [
        "# Specify the exact index you want replace [r,c]\n",
        "c[1,5]= 2\n",
        "print(c)"
      ],
      "metadata": {
        "id": "oJmifAgv1MFt",
        "outputId": "7a3c2f4d-5f08-4cc1-e34a-2b2047e5454e",
        "colab": {
          "base_uri": "https://localhost:8080/"
        }
      },
      "execution_count": 25,
      "outputs": [
        {
          "output_type": "stream",
          "name": "stdout",
          "text": [
            "[[ 1  2 17  4  5  6  7  8]\n",
            " [ 5  6 17  8  9  2 10 11]]\n"
          ]
        }
      ]
    },
    {
      "cell_type": "markdown",
      "source": [
        "Changing an entire row or a column"
      ],
      "metadata": {
        "id": "qBwhYlqd2Mgn"
      }
    },
    {
      "cell_type": "code",
      "source": [
        "# Replace an entire column by a single value\n",
        "c[: ,2]= 17\n",
        "print(c)"
      ],
      "metadata": {
        "id": "4iInA_LP2AYU",
        "outputId": "91f16fc3-c68f-4d29-87f8-6eff29e5cb76",
        "colab": {
          "base_uri": "https://localhost:8080/"
        }
      },
      "execution_count": 26,
      "outputs": [
        {
          "output_type": "stream",
          "name": "stdout",
          "text": [
            "[[ 1  2 17  4  5  6  7  8]\n",
            " [ 5  6 17  8  9  2 10 11]]\n"
          ]
        }
      ]
    },
    {
      "cell_type": "code",
      "source": [
        "# We can also specify indivisual value\n",
        "# The number of value should be equal to number of rows or column we are chaning\n",
        "c [:, 3]=[19,21]\n",
        "print(c)"
      ],
      "metadata": {
        "id": "Wt_JObXP2YVP",
        "outputId": "9d06df08-ad7c-49dc-b159-e1fafe3716a7",
        "colab": {
          "base_uri": "https://localhost:8080/"
        }
      },
      "execution_count": 30,
      "outputs": [
        {
          "output_type": "stream",
          "name": "stdout",
          "text": [
            "[[ 1  2 17 19  5  6  7  8]\n",
            " [ 5  6 17 21  9  2 10 11]]\n"
          ]
        }
      ]
    },
    {
      "cell_type": "markdown",
      "source": [
        "## Mathematics using numpy\n"
      ],
      "metadata": {
        "id": "KhX7OKDnVJY8"
      }
    },
    {
      "cell_type": "code",
      "source": [
        "math= np.array([1,2,3,4])\n",
        "print (math)"
      ],
      "metadata": {
        "id": "KNpDc26H2wPF",
        "outputId": "ae8090a2-6b6f-4ef4-9962-d482c2d4ca9c",
        "colab": {
          "base_uri": "https://localhost:8080/"
        }
      },
      "execution_count": 4,
      "outputs": [
        {
          "output_type": "stream",
          "name": "stdout",
          "text": [
            "[1 2 3 4]\n"
          ]
        }
      ]
    },
    {
      "cell_type": "code",
      "source": [
        "# Addition in numpy\n",
        "\n",
        "\n",
        "# Method 1:\n",
        "print(math + 2)\n",
        "\n",
        "# Method 2:\n",
        "print(np.add(math,2))"
      ],
      "metadata": {
        "id": "0TdfozP-VXtz",
        "outputId": "92aa04b7-a45c-4153-d33b-3d37038e3307",
        "colab": {
          "base_uri": "https://localhost:8080/"
        }
      },
      "execution_count": 10,
      "outputs": [
        {
          "output_type": "stream",
          "name": "stdout",
          "text": [
            "[3 4 5 6]\n",
            "[3 4 5 6]\n"
          ]
        }
      ]
    },
    {
      "cell_type": "code",
      "source": [
        "# Subtraction in numpy\n",
        "\n",
        "# Method 1\n",
        "print(math - 2)\n",
        "\n",
        "# Method 2\n",
        "print(np.subtract(math,2))"
      ],
      "metadata": {
        "id": "pJclgxMXVjKE",
        "outputId": "ff031180-2b48-497d-f342-39078ff5fbbf",
        "colab": {
          "base_uri": "https://localhost:8080/"
        }
      },
      "execution_count": 12,
      "outputs": [
        {
          "output_type": "stream",
          "name": "stdout",
          "text": [
            "[-1  0  1  2]\n",
            "[-1  0  1  2]\n"
          ]
        }
      ]
    },
    {
      "cell_type": "code",
      "source": [
        "# Multiplication in numpy\n",
        "\n",
        "# Method 1\n",
        "print(math*2)\n",
        "\n",
        "#Method 2\n",
        "print(np.multiply(math,2))"
      ],
      "metadata": {
        "id": "CZ7zXTW4WMF3",
        "outputId": "76570414-8965-4d70-a757-35df52e70ef1",
        "colab": {
          "base_uri": "https://localhost:8080/"
        }
      },
      "execution_count": 15,
      "outputs": [
        {
          "output_type": "stream",
          "name": "stdout",
          "text": [
            "[2 4 6 8]\n",
            "[2 4 6 8]\n"
          ]
        }
      ]
    },
    {
      "cell_type": "code",
      "source": [],
      "metadata": {
        "id": "xsi-u35UWYwp"
      },
      "execution_count": null,
      "outputs": []
    }
  ]
}